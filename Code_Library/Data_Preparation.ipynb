{
 "cells": [
  {
   "cell_type": "markdown",
   "id": "2d87a623",
   "metadata": {},
   "source": [
    "# Data Preparation"
   ]
  },
  {
   "cell_type": "markdown",
   "id": "90de37fc",
   "metadata": {},
   "source": [
    "## Setup"
   ]
  },
  {
   "cell_type": "code",
   "execution_count": 1,
   "id": "3b550742",
   "metadata": {},
   "outputs": [],
   "source": [
    "# Data handling\n",
    "import pandas as pd\n",
    "import polars as pl\n",
    "import glob\n",
    "import os\n",
    "\n",
    "import lightgbm as lgb\n",
    "from sklearn.model_selection import train_test_split\n",
    "from sklearn.preprocessing import LabelEncoder"
   ]
  },
  {
   "cell_type": "markdown",
   "id": "1cc98310",
   "metadata": {},
   "source": [
    "## 1. Load Data\n",
    "First, we will use the function 'glob' because it will return all the files starting with \"merged\"."
   ]
  },
  {
   "cell_type": "code",
   "execution_count": 4,
   "id": "9e44ac27",
   "metadata": {},
   "outputs": [
    {
     "name": "stdout",
     "output_type": "stream",
     "text": [
      "Found Files:  63\n"
     ]
    }
   ],
   "source": [
    "# Merged Files Path\n",
    "path = \"../Data/Raw\"\n",
    "\n",
    "# Grabbing the correct path\n",
    "raw_data_path = os.path.join(path, \"merged*.csv\")\n",
    "\n",
    "# Putting all the chunks in an array\n",
    "merged_files = sorted(glob.glob(raw_data_path))\n",
    "\n",
    "print(\"Found Files: \", len(merged_files))"
   ]
  },
  {
   "cell_type": "markdown",
   "id": "753f7697",
   "metadata": {},
   "source": [
    "Using Polars to handle big datasets"
   ]
  },
  {
   "cell_type": "code",
   "execution_count": 5,
   "id": "8b3580db",
   "metadata": {},
   "outputs": [
    {
     "name": "stdout",
     "output_type": "stream",
     "text": [
      "shape: (2, 40)\n",
      "┌────────────┬────────────┬────────────┬────────────┬───┬──────────┬────────┬──────────┬───────────┐\n",
      "│ Header_Len ┆ Protocol   ┆ Time_To_Li ┆ Rate       ┆ … ┆ IAT      ┆ Number ┆ Variance ┆ Label     │\n",
      "│ gth        ┆ Type       ┆ ve         ┆ ---        ┆   ┆ ---      ┆ ---    ┆ ---      ┆ ---       │\n",
      "│ ---        ┆ ---        ┆ ---        ┆ f64        ┆   ┆ f64      ┆ i64    ┆ f64      ┆ str       │\n",
      "│ f64        ┆ i64        ┆ f64        ┆            ┆   ┆          ┆        ┆          ┆           │\n",
      "╞════════════╪════════════╪════════════╪════════════╪═══╪══════════╪════════╪══════════╪═══════════╡\n",
      "│ 19.92      ┆ 6          ┆ 63.36      ┆ 25893.9622 ┆ … ┆ 0.000039 ┆ 100    ┆ 1772.41  ┆ DDOS-PSHA │\n",
      "│            ┆            ┆            ┆ 18         ┆   ┆          ┆        ┆          ┆ CK_FLOOD  │\n",
      "│ 0.0        ┆ 47         ┆ 64.0       ┆ 3703.84133 ┆ … ┆ 0.000271 ┆ 100    ┆ 2304.0   ┆ MIRAI-GRE │\n",
      "│            ┆            ┆            ┆ 1          ┆   ┆          ┆        ┆          ┆ IP_FLOOD  │\n",
      "└────────────┴────────────┴────────────┴────────────┴───┴──────────┴────────┴──────────┴───────────┘\n"
     ]
    }
   ],
   "source": [
    "# Using LazyFrames for each CSV\n",
    "lazy_frames = [pl.scan_csv(f) for f in merged_files]\n",
    "\n",
    "# Concatenating all files into one dataset\n",
    "raw_concat_df = pl.concat(lazy_frames)\n",
    "\n",
    "# Running this method to create one single dataset\n",
    "raw_concat = raw_concat_df.collect()\n",
    "\n",
    "# Checking result\n",
    "print(raw_concat.head(2))"
   ]
  },
  {
   "cell_type": "markdown",
   "id": "546e04ea",
   "metadata": {},
   "source": [
    "### 1.1 Saving Raw dataset\n",
    "The format will be Parquet because it is faster than working with CSV files."
   ]
  },
  {
   "cell_type": "code",
   "execution_count": 6,
   "id": "caaa05b0",
   "metadata": {},
   "outputs": [],
   "source": [
    "raw_concat.write_parquet(\"../Data/Raw/Raw_Dataset\")"
   ]
  },
  {
   "cell_type": "markdown",
   "id": "1e86819f",
   "metadata": {},
   "source": [
    "### 1.2 Loading Raw Dataset"
   ]
  },
  {
   "cell_type": "code",
   "execution_count": 2,
   "id": "98dcf109",
   "metadata": {},
   "outputs": [],
   "source": [
    "raw_df = pl.read_parquet(\"../Data/Raw/Raw_Dataset\")"
   ]
  },
  {
   "cell_type": "markdown",
   "id": "a181d2d8",
   "metadata": {},
   "source": [
    "### 1.3 Initial Data Exploration Before Cleaning"
   ]
  },
  {
   "cell_type": "code",
   "execution_count": 3,
   "id": "41ae3567",
   "metadata": {},
   "outputs": [
    {
     "data": {
      "text/html": [
       "<div><style>\n",
       ".dataframe > thead > tr,\n",
       ".dataframe > tbody > tr {\n",
       "  text-align: right;\n",
       "  white-space: pre-wrap;\n",
       "}\n",
       "</style>\n",
       "<small>shape: (9, 41)</small><table border=\"1\" class=\"dataframe\"><thead><tr><th>statistic</th><th>Header_Length</th><th>Protocol Type</th><th>Time_To_Live</th><th>Rate</th><th>fin_flag_number</th><th>syn_flag_number</th><th>rst_flag_number</th><th>psh_flag_number</th><th>ack_flag_number</th><th>ece_flag_number</th><th>cwr_flag_number</th><th>ack_count</th><th>syn_count</th><th>fin_count</th><th>rst_count</th><th>HTTP</th><th>HTTPS</th><th>DNS</th><th>Telnet</th><th>SMTP</th><th>SSH</th><th>IRC</th><th>TCP</th><th>UDP</th><th>DHCP</th><th>ARP</th><th>ICMP</th><th>IGMP</th><th>IPv</th><th>LLC</th><th>Tot sum</th><th>Min</th><th>Max</th><th>AVG</th><th>Std</th><th>Tot size</th><th>IAT</th><th>Number</th><th>Variance</th><th>Label</th></tr><tr><td>str</td><td>f64</td><td>f64</td><td>f64</td><td>f64</td><td>f64</td><td>f64</td><td>f64</td><td>f64</td><td>f64</td><td>f64</td><td>f64</td><td>f64</td><td>f64</td><td>f64</td><td>f64</td><td>f64</td><td>f64</td><td>f64</td><td>f64</td><td>f64</td><td>f64</td><td>f64</td><td>f64</td><td>f64</td><td>f64</td><td>f64</td><td>f64</td><td>f64</td><td>f64</td><td>f64</td><td>f64</td><td>f64</td><td>f64</td><td>f64</td><td>f64</td><td>f64</td><td>f64</td><td>f64</td><td>f64</td><td>str</td></tr></thead><tbody><tr><td>&quot;count&quot;</td><td>4.5019243e7</td><td>4.5019243e7</td><td>4.5019243e7</td><td>4.5019243e7</td><td>4.5019242e7</td><td>4.5019242e7</td><td>4.5019241e7</td><td>4.5019241e7</td><td>4.5019241e7</td><td>4.5019241e7</td><td>4.5019241e7</td><td>4.5019241e7</td><td>4.5019241e7</td><td>4.5019241e7</td><td>4.5019241e7</td><td>4.5019241e7</td><td>4.5019241e7</td><td>4.501924e7</td><td>4.501924e7</td><td>4.501924e7</td><td>4.501924e7</td><td>4.501924e7</td><td>4.5019239e7</td><td>4.5019239e7</td><td>4.5019239e7</td><td>4.5019237e7</td><td>4.5019237e7</td><td>4.5019237e7</td><td>4.5019236e7</td><td>4.5019236e7</td><td>4.5019236e7</td><td>4.5019236e7</td><td>4.5019236e7</td><td>4.5019236e7</td><td>4.5018566e7</td><td>4.5019236e7</td><td>4.5019236e7</td><td>4.5019235e7</td><td>4.5018564e7</td><td>&quot;45019234&quot;</td></tr><tr><td>&quot;null_count&quot;</td><td>0.0</td><td>0.0</td><td>0.0</td><td>0.0</td><td>1.0</td><td>1.0</td><td>2.0</td><td>2.0</td><td>2.0</td><td>2.0</td><td>2.0</td><td>2.0</td><td>2.0</td><td>2.0</td><td>2.0</td><td>2.0</td><td>2.0</td><td>3.0</td><td>3.0</td><td>3.0</td><td>3.0</td><td>3.0</td><td>4.0</td><td>4.0</td><td>4.0</td><td>6.0</td><td>6.0</td><td>6.0</td><td>7.0</td><td>7.0</td><td>7.0</td><td>7.0</td><td>7.0</td><td>7.0</td><td>677.0</td><td>7.0</td><td>7.0</td><td>8.0</td><td>679.0</td><td>&quot;9&quot;</td></tr><tr><td>&quot;mean&quot;</td><td>13.737131</td><td>9.091308</td><td>66.531692</td><td>inf</td><td>0.08692</td><td>0.206446</td><td>0.092911</td><td>0.093867</td><td>0.129789</td><td>0.000028</td><td>0.000015</td><td>9.856238</td><td>20.399865</td><td>8.608305</td><td>9.171135</td><td>0.050231</td><td>0.058763</td><td>0.002632</td><td>0.000011</td><td>0.000011</td><td>0.000206</td><td>0.000016</td><td>0.574688</td><td>0.21731</td><td>0.000175</td><td>0.00283</td><td>0.163487</td><td>0.000021</td><td>0.99717</td><td>0.99717</td><td>10953.114966</td><td>79.958927</td><td>223.347508</td><td>131.428351</td><td>41.311501</td><td>131.428351</td><td>0.010303</td><td>95.51115</td><td>34246.200863</td><td>null</td></tr><tr><td>&quot;std&quot;</td><td>8.72476</td><td>9.09442</td><td>14.416833</td><td>NaN</td><td>0.27934</td><td>0.399469</td><td>0.2833</td><td>0.276981</td><td>0.316596</td><td>0.002022</td><td>0.001403</td><td>28.020519</td><td>39.90779</td><td>27.926966</td><td>28.226764</td><td>0.213406</td><td>0.219492</td><td>0.022176</td><td>0.000693</td><td>0.000768</td><td>0.007574</td><td>0.000999</td><td>0.484838</td><td>0.401024</td><td>0.004795</td><td>0.018719</td><td>0.366346</td><td>0.001318</td><td>0.018719</td><td>0.018719</td><td>16852.252262</td><td>107.172392</td><td>582.585731</td><td>229.087023</td><td>180.38725</td><td>229.087023</td><td>21.176433</td><td>19.555591</td><td>388353.613362</td><td>null</td></tr><tr><td>&quot;min&quot;</td><td>0.0</td><td>0.0</td><td>0.0</td><td>0.000013</td><td>0.0</td><td>0.0</td><td>0.0</td><td>0.0</td><td>0.0</td><td>0.0</td><td>0.0</td><td>0.0</td><td>0.0</td><td>0.0</td><td>0.0</td><td>0.0</td><td>0.0</td><td>0.0</td><td>0.0</td><td>0.0</td><td>0.0</td><td>0.0</td><td>0.0</td><td>0.0</td><td>0.0</td><td>0.0</td><td>0.0</td><td>0.0</td><td>0.0</td><td>0.0</td><td>60.0</td><td>42.0</td><td>46.0</td><td>46.0</td><td>0.0</td><td>46.0</td><td>-0.017818</td><td>1.0</td><td>0.0</td><td>&quot;BACKDOOR_MALWARE&quot;</td></tr><tr><td>&quot;25%&quot;</td><td>8.0</td><td>6.0</td><td>64.0</td><td>11379.321197</td><td>0.0</td><td>0.0</td><td>0.0</td><td>0.0</td><td>0.0</td><td>0.0</td><td>0.0</td><td>0.0</td><td>0.0</td><td>0.0</td><td>0.0</td><td>0.0</td><td>0.0</td><td>0.0</td><td>0.0</td><td>0.0</td><td>0.0</td><td>0.0</td><td>0.0</td><td>0.0</td><td>0.0</td><td>0.0</td><td>0.0</td><td>0.0</td><td>1.0</td><td>1.0</td><td>6000.0</td><td>60.0</td><td>60.0</td><td>60.0</td><td>0.0</td><td>60.0</td><td>0.000027</td><td>100.0</td><td>0.0</td><td>null</td></tr><tr><td>&quot;50%&quot;</td><td>20.0</td><td>6.0</td><td>64.0</td><td>24600.02346</td><td>0.0</td><td>0.0</td><td>0.0</td><td>0.0</td><td>0.0</td><td>0.0</td><td>0.0</td><td>0.0</td><td>0.0</td><td>0.0</td><td>0.0</td><td>0.0</td><td>0.0</td><td>0.0</td><td>0.0</td><td>0.0</td><td>0.0</td><td>0.0</td><td>0.99</td><td>0.0</td><td>0.0</td><td>0.0</td><td>0.0</td><td>0.0</td><td>1.0</td><td>1.0</td><td>6000.0</td><td>60.0</td><td>60.0</td><td>60.0</td><td>0.0</td><td>60.0</td><td>0.000041</td><td>100.0</td><td>0.0</td><td>null</td></tr><tr><td>&quot;75%&quot;</td><td>20.0</td><td>17.0</td><td>64.0</td><td>37936.903039</td><td>0.0</td><td>0.01</td><td>0.0</td><td>0.0</td><td>0.01</td><td>0.0</td><td>0.0</td><td>1.0</td><td>1.0</td><td>0.0</td><td>0.0</td><td>0.0</td><td>0.0</td><td>0.0</td><td>0.0</td><td>0.0</td><td>0.0</td><td>0.0</td><td>1.0</td><td>0.03</td><td>0.0</td><td>0.0</td><td>0.0</td><td>0.0</td><td>1.0</td><td>1.0</td><td>6010.0</td><td>60.0</td><td>74.0</td><td>60.25</td><td>0.844232</td><td>60.25</td><td>0.000089</td><td>100.0</td><td>0.712727</td><td>null</td></tr><tr><td>&quot;max&quot;</td><td>60.0</td><td>47.0</td><td>255.0</td><td>inf</td><td>1.0</td><td>1.0</td><td>1.0</td><td>1.0</td><td>1.0</td><td>1.0</td><td>1.0</td><td>100.0</td><td>100.0</td><td>100.0</td><td>100.0</td><td>1.0</td><td>1.0</td><td>1.0</td><td>0.6</td><td>0.9</td><td>1.0</td><td>0.9</td><td>1.0</td><td>1.0</td><td>1.0</td><td>1.0</td><td>1.0</td><td>1.0</td><td>1.0</td><td>1.0</td><td>316492.0</td><td>13583.0</td><td>52194.0</td><td>13583.0</td><td>11655.404669</td><td>13583.0</td><td>78612.003899</td><td>100.0</td><td>1.35848458e8</td><td>&quot;XSS&quot;</td></tr></tbody></table></div>"
      ],
      "text/plain": [
       "shape: (9, 41)\n",
       "┌───────────┬───────────┬───────────┬───────────┬───┬───────────┬───────────┬───────────┬──────────┐\n",
       "│ statistic ┆ Header_Le ┆ Protocol  ┆ Time_To_L ┆ … ┆ IAT       ┆ Number    ┆ Variance  ┆ Label    │\n",
       "│ ---       ┆ ngth      ┆ Type      ┆ ive       ┆   ┆ ---       ┆ ---       ┆ ---       ┆ ---      │\n",
       "│ str       ┆ ---       ┆ ---       ┆ ---       ┆   ┆ f64       ┆ f64       ┆ f64       ┆ str      │\n",
       "│           ┆ f64       ┆ f64       ┆ f64       ┆   ┆           ┆           ┆           ┆          │\n",
       "╞═══════════╪═══════════╪═══════════╪═══════════╪═══╪═══════════╪═══════════╪═══════════╪══════════╡\n",
       "│ count     ┆ 4.5019243 ┆ 4.5019243 ┆ 4.5019243 ┆ … ┆ 4.5019236 ┆ 4.5019235 ┆ 4.5018564 ┆ 45019234 │\n",
       "│           ┆ e7        ┆ e7        ┆ e7        ┆   ┆ e7        ┆ e7        ┆ e7        ┆          │\n",
       "│ null_coun ┆ 0.0       ┆ 0.0       ┆ 0.0       ┆ … ┆ 7.0       ┆ 8.0       ┆ 679.0     ┆ 9        │\n",
       "│ t         ┆           ┆           ┆           ┆   ┆           ┆           ┆           ┆          │\n",
       "│ mean      ┆ 13.737131 ┆ 9.091308  ┆ 66.531692 ┆ … ┆ 0.010303  ┆ 95.51115  ┆ 34246.200 ┆ null     │\n",
       "│           ┆           ┆           ┆           ┆   ┆           ┆           ┆ 863       ┆          │\n",
       "│ std       ┆ 8.72476   ┆ 9.09442   ┆ 14.416833 ┆ … ┆ 21.176433 ┆ 19.555591 ┆ 388353.61 ┆ null     │\n",
       "│           ┆           ┆           ┆           ┆   ┆           ┆           ┆ 3362      ┆          │\n",
       "│ min       ┆ 0.0       ┆ 0.0       ┆ 0.0       ┆ … ┆ -0.017818 ┆ 1.0       ┆ 0.0       ┆ BACKDOOR │\n",
       "│           ┆           ┆           ┆           ┆   ┆           ┆           ┆           ┆ _MALWARE │\n",
       "│ 25%       ┆ 8.0       ┆ 6.0       ┆ 64.0      ┆ … ┆ 0.000027  ┆ 100.0     ┆ 0.0       ┆ null     │\n",
       "│ 50%       ┆ 20.0      ┆ 6.0       ┆ 64.0      ┆ … ┆ 0.000041  ┆ 100.0     ┆ 0.0       ┆ null     │\n",
       "│ 75%       ┆ 20.0      ┆ 17.0      ┆ 64.0      ┆ … ┆ 0.000089  ┆ 100.0     ┆ 0.712727  ┆ null     │\n",
       "│ max       ┆ 60.0      ┆ 47.0      ┆ 255.0     ┆ … ┆ 78612.003 ┆ 100.0     ┆ 1.3584845 ┆ XSS      │\n",
       "│           ┆           ┆           ┆           ┆   ┆ 899       ┆           ┆ 8e8       ┆          │\n",
       "└───────────┴───────────┴───────────┴───────────┴───┴───────────┴───────────┴───────────┴──────────┘"
      ]
     },
     "execution_count": 3,
     "metadata": {},
     "output_type": "execute_result"
    }
   ],
   "source": [
    "raw_df.describe()"
   ]
  },
  {
   "cell_type": "markdown",
   "id": "0644f943",
   "metadata": {},
   "source": [
    "This dataset contains around **45 million rows and 40 columns**. The target variable is **\"label\"** and the rest of the columns are type f64(float). Less than 10 missing values appear in most columns which is very small. However, exists some infinite (inf) values that will need to be treated."
   ]
  },
  {
   "cell_type": "markdown",
   "id": "dfaf42a1",
   "metadata": {},
   "source": [
    "## 3. Data Cleaning"
   ]
  },
  {
   "cell_type": "markdown",
   "id": "237adbdd",
   "metadata": {},
   "source": [
    "Checking which columns contain null values"
   ]
  },
  {
   "cell_type": "code",
   "execution_count": 4,
   "id": "6412b0d1",
   "metadata": {},
   "outputs": [
    {
     "data": {
      "text/html": [
       "<div><style>\n",
       ".dataframe > thead > tr,\n",
       ".dataframe > tbody > tr {\n",
       "  text-align: right;\n",
       "  white-space: pre-wrap;\n",
       "}\n",
       "</style>\n",
       "<small>shape: (1, 40)</small><table border=\"1\" class=\"dataframe\"><thead><tr><th>Header_Length</th><th>Protocol Type</th><th>Time_To_Live</th><th>Rate</th><th>fin_flag_number</th><th>syn_flag_number</th><th>rst_flag_number</th><th>psh_flag_number</th><th>ack_flag_number</th><th>ece_flag_number</th><th>cwr_flag_number</th><th>ack_count</th><th>syn_count</th><th>fin_count</th><th>rst_count</th><th>HTTP</th><th>HTTPS</th><th>DNS</th><th>Telnet</th><th>SMTP</th><th>SSH</th><th>IRC</th><th>TCP</th><th>UDP</th><th>DHCP</th><th>ARP</th><th>ICMP</th><th>IGMP</th><th>IPv</th><th>LLC</th><th>Tot sum</th><th>Min</th><th>Max</th><th>AVG</th><th>Std</th><th>Tot size</th><th>IAT</th><th>Number</th><th>Variance</th><th>Label</th></tr><tr><td>u32</td><td>u32</td><td>u32</td><td>u32</td><td>u32</td><td>u32</td><td>u32</td><td>u32</td><td>u32</td><td>u32</td><td>u32</td><td>u32</td><td>u32</td><td>u32</td><td>u32</td><td>u32</td><td>u32</td><td>u32</td><td>u32</td><td>u32</td><td>u32</td><td>u32</td><td>u32</td><td>u32</td><td>u32</td><td>u32</td><td>u32</td><td>u32</td><td>u32</td><td>u32</td><td>u32</td><td>u32</td><td>u32</td><td>u32</td><td>u32</td><td>u32</td><td>u32</td><td>u32</td><td>u32</td><td>u32</td></tr></thead><tbody><tr><td>0</td><td>0</td><td>0</td><td>0</td><td>1</td><td>1</td><td>2</td><td>2</td><td>2</td><td>2</td><td>2</td><td>2</td><td>2</td><td>2</td><td>2</td><td>2</td><td>2</td><td>3</td><td>3</td><td>3</td><td>3</td><td>3</td><td>4</td><td>4</td><td>4</td><td>6</td><td>6</td><td>6</td><td>7</td><td>7</td><td>7</td><td>7</td><td>7</td><td>7</td><td>677</td><td>7</td><td>7</td><td>8</td><td>679</td><td>9</td></tr></tbody></table></div>"
      ],
      "text/plain": [
       "shape: (1, 40)\n",
       "┌───────────────┬───────────────┬──────────────┬──────┬───┬─────┬────────┬──────────┬───────┐\n",
       "│ Header_Length ┆ Protocol Type ┆ Time_To_Live ┆ Rate ┆ … ┆ IAT ┆ Number ┆ Variance ┆ Label │\n",
       "│ ---           ┆ ---           ┆ ---          ┆ ---  ┆   ┆ --- ┆ ---    ┆ ---      ┆ ---   │\n",
       "│ u32           ┆ u32           ┆ u32          ┆ u32  ┆   ┆ u32 ┆ u32    ┆ u32      ┆ u32   │\n",
       "╞═══════════════╪═══════════════╪══════════════╪══════╪═══╪═════╪════════╪══════════╪═══════╡\n",
       "│ 0             ┆ 0             ┆ 0            ┆ 0    ┆ … ┆ 7   ┆ 8      ┆ 679      ┆ 9     │\n",
       "└───────────────┴───────────────┴──────────────┴──────┴───┴─────┴────────┴──────────┴───────┘"
      ]
     },
     "execution_count": 4,
     "metadata": {},
     "output_type": "execute_result"
    }
   ],
   "source": [
    "raw_df.select([\n",
    "    pl.col(c).is_null().sum().alias(c) for c in raw_df.columns\n",
    "])"
   ]
  },
  {
   "cell_type": "markdown",
   "id": "e8085010",
   "metadata": {},
   "source": [
    "Dropping null values in 'Label' and 'Std' columns "
   ]
  },
  {
   "cell_type": "code",
   "execution_count": 5,
   "id": "90e66471",
   "metadata": {},
   "outputs": [],
   "source": [
    "raw_df = raw_df.drop_nulls([\"Label\", \"Std\"])"
   ]
  },
  {
   "cell_type": "markdown",
   "id": "96c2450c",
   "metadata": {},
   "source": [
    "Removing Duplicates"
   ]
  },
  {
   "cell_type": "code",
   "execution_count": 6,
   "id": "b375c09e",
   "metadata": {},
   "outputs": [],
   "source": [
    "raw_df = raw_df.unique()"
   ]
  },
  {
   "cell_type": "markdown",
   "id": "c2ca23e9",
   "metadata": {},
   "source": [
    "Dropping Infinite Values"
   ]
  },
  {
   "cell_type": "code",
   "execution_count": 7,
   "id": "fe5b630c",
   "metadata": {},
   "outputs": [],
   "source": [
    "raw_df = raw_df.filter(~pl.col(\"Rate\").is_infinite())"
   ]
  },
  {
   "cell_type": "code",
   "execution_count": 8,
   "id": "304a5484",
   "metadata": {},
   "outputs": [
    {
     "data": {
      "text/html": [
       "<div><style>\n",
       ".dataframe > thead > tr,\n",
       ".dataframe > tbody > tr {\n",
       "  text-align: right;\n",
       "  white-space: pre-wrap;\n",
       "}\n",
       "</style>\n",
       "<small>shape: (9, 41)</small><table border=\"1\" class=\"dataframe\"><thead><tr><th>statistic</th><th>Header_Length</th><th>Protocol Type</th><th>Time_To_Live</th><th>Rate</th><th>fin_flag_number</th><th>syn_flag_number</th><th>rst_flag_number</th><th>psh_flag_number</th><th>ack_flag_number</th><th>ece_flag_number</th><th>cwr_flag_number</th><th>ack_count</th><th>syn_count</th><th>fin_count</th><th>rst_count</th><th>HTTP</th><th>HTTPS</th><th>DNS</th><th>Telnet</th><th>SMTP</th><th>SSH</th><th>IRC</th><th>TCP</th><th>UDP</th><th>DHCP</th><th>ARP</th><th>ICMP</th><th>IGMP</th><th>IPv</th><th>LLC</th><th>Tot sum</th><th>Min</th><th>Max</th><th>AVG</th><th>Std</th><th>Tot size</th><th>IAT</th><th>Number</th><th>Variance</th><th>Label</th></tr><tr><td>str</td><td>f64</td><td>f64</td><td>f64</td><td>f64</td><td>f64</td><td>f64</td><td>f64</td><td>f64</td><td>f64</td><td>f64</td><td>f64</td><td>f64</td><td>f64</td><td>f64</td><td>f64</td><td>f64</td><td>f64</td><td>f64</td><td>f64</td><td>f64</td><td>f64</td><td>f64</td><td>f64</td><td>f64</td><td>f64</td><td>f64</td><td>f64</td><td>f64</td><td>f64</td><td>f64</td><td>f64</td><td>f64</td><td>f64</td><td>f64</td><td>f64</td><td>f64</td><td>f64</td><td>f64</td><td>f64</td><td>str</td></tr></thead><tbody><tr><td>&quot;count&quot;</td><td>2.100524e7</td><td>2.100524e7</td><td>2.100524e7</td><td>2.100524e7</td><td>2.100524e7</td><td>2.100524e7</td><td>2.100524e7</td><td>2.100524e7</td><td>2.100524e7</td><td>2.100524e7</td><td>2.100524e7</td><td>2.100524e7</td><td>2.100524e7</td><td>2.100524e7</td><td>2.100524e7</td><td>2.100524e7</td><td>2.100524e7</td><td>2.100524e7</td><td>2.100524e7</td><td>2.100524e7</td><td>2.100524e7</td><td>2.100524e7</td><td>2.100524e7</td><td>2.100524e7</td><td>2.100524e7</td><td>2.100524e7</td><td>2.100524e7</td><td>2.100524e7</td><td>2.100524e7</td><td>2.100524e7</td><td>2.100524e7</td><td>2.100524e7</td><td>2.100524e7</td><td>2.100524e7</td><td>2.100524e7</td><td>2.100524e7</td><td>2.100524e7</td><td>2.100524e7</td><td>2.100524e7</td><td>&quot;21005240&quot;</td></tr><tr><td>&quot;null_count&quot;</td><td>0.0</td><td>0.0</td><td>0.0</td><td>0.0</td><td>0.0</td><td>0.0</td><td>0.0</td><td>0.0</td><td>0.0</td><td>0.0</td><td>0.0</td><td>0.0</td><td>0.0</td><td>0.0</td><td>0.0</td><td>0.0</td><td>0.0</td><td>0.0</td><td>0.0</td><td>0.0</td><td>0.0</td><td>0.0</td><td>0.0</td><td>0.0</td><td>0.0</td><td>0.0</td><td>0.0</td><td>0.0</td><td>0.0</td><td>0.0</td><td>0.0</td><td>0.0</td><td>0.0</td><td>0.0</td><td>0.0</td><td>0.0</td><td>0.0</td><td>0.0</td><td>0.0</td><td>&quot;0&quot;</td></tr><tr><td>&quot;mean&quot;</td><td>14.022944</td><td>11.235932</td><td>69.413359</td><td>19238.575991</td><td>0.061738</td><td>0.19504</td><td>0.074058</td><td>0.093043</td><td>0.168224</td><td>0.000061</td><td>0.000031</td><td>10.279988</td><td>18.98586</td><td>5.994794</td><td>7.158183</td><td>0.065235</td><td>0.096103</td><td>0.00564</td><td>0.000022</td><td>0.000022</td><td>0.000441</td><td>0.000034</td><td>0.550377</td><td>0.245321</td><td>0.000375</td><td>0.005679</td><td>0.113021</td><td>0.000045</td><td>0.994321</td><td>0.994321</td><td>16065.206757</td><td>97.256727</td><td>404.153965</td><td>207.398039</td><td>88.3685</td><td>207.398039</td><td>0.022037</td><td>90.555317</td><td>73295.144494</td><td>null</td></tr><tr><td>&quot;std&quot;</td><td>9.085971</td><td>11.468747</td><td>20.664064</td><td>31067.467221</td><td>0.234749</td><td>0.384731</td><td>0.245408</td><td>0.258343</td><td>0.336026</td><td>0.00296</td><td>0.002054</td><td>26.545545</td><td>38.374556</td><td>23.437795</td><td>24.282325</td><td>0.237366</td><td>0.267552</td><td>0.032201</td><td>0.001012</td><td>0.001122</td><td>0.011083</td><td>0.00146</td><td>0.477123</td><td>0.406701</td><td>0.007011</td><td>0.027051</td><td>0.3081</td><td>0.001917</td><td>0.027051</td><td>0.027051</td><td>23160.752796</td><td>147.745118</td><td>814.40915</td><td>315.032966</td><td>255.90263</td><td>315.032966</td><td>31.001877</td><td>27.526711</td><td>565975.365401</td><td>null</td></tr><tr><td>&quot;min&quot;</td><td>0.0</td><td>0.0</td><td>0.0</td><td>0.000013</td><td>0.0</td><td>0.0</td><td>0.0</td><td>0.0</td><td>0.0</td><td>0.0</td><td>0.0</td><td>0.0</td><td>0.0</td><td>0.0</td><td>0.0</td><td>0.0</td><td>0.0</td><td>0.0</td><td>0.0</td><td>0.0</td><td>0.0</td><td>0.0</td><td>0.0</td><td>0.0</td><td>0.0</td><td>0.0</td><td>0.0</td><td>0.0</td><td>0.0</td><td>0.0</td><td>120.0</td><td>42.0</td><td>46.0</td><td>46.0</td><td>0.0</td><td>46.0</td><td>-0.017818</td><td>2.0</td><td>0.0</td><td>&quot;BACKDOOR_MALWARE&quot;</td></tr><tr><td>&quot;25%&quot;</td><td>7.92</td><td>6.0</td><td>64.0</td><td>4503.08021</td><td>0.0</td><td>0.0</td><td>0.0</td><td>0.0</td><td>0.0</td><td>0.0</td><td>0.0</td><td>0.0</td><td>0.0</td><td>0.0</td><td>0.0</td><td>0.0</td><td>0.0</td><td>0.0</td><td>0.0</td><td>0.0</td><td>0.0</td><td>0.0</td><td>0.0</td><td>0.0</td><td>0.0</td><td>0.0</td><td>0.0</td><td>0.0</td><td>1.0</td><td>1.0</td><td>6000.0</td><td>60.0</td><td>60.0</td><td>60.0</td><td>0.0</td><td>60.0</td><td>0.000038</td><td>100.0</td><td>0.0</td><td>null</td></tr><tr><td>&quot;50%&quot;</td><td>19.8</td><td>6.0</td><td>64.0</td><td>12682.341558</td><td>0.0</td><td>0.0</td><td>0.0</td><td>0.0</td><td>0.0</td><td>0.0</td><td>0.0</td><td>0.0</td><td>0.0</td><td>0.0</td><td>0.0</td><td>0.0</td><td>0.0</td><td>0.0</td><td>0.0</td><td>0.0</td><td>0.0</td><td>0.0</td><td>0.9</td><td>0.0</td><td>0.0</td><td>0.0</td><td>0.0</td><td>0.0</td><td>1.0</td><td>1.0</td><td>6014.0</td><td>60.0</td><td>78.0</td><td>60.3</td><td>1.4</td><td>60.3</td><td>0.00008</td><td>100.0</td><td>1.96</td><td>null</td></tr><tr><td>&quot;75%&quot;</td><td>20.0</td><td>17.0</td><td>65.73</td><td>27299.557407</td><td>0.0</td><td>0.01</td><td>0.0</td><td>0.01</td><td>0.03</td><td>0.0</td><td>0.0</td><td>3.0</td><td>1.0</td><td>0.0</td><td>0.0</td><td>0.0</td><td>0.01</td><td>0.0</td><td>0.0</td><td>0.0</td><td>0.0</td><td>0.0</td><td>1.0</td><td>0.4</td><td>0.0</td><td>0.0</td><td>0.0</td><td>0.0</td><td>1.0</td><td>1.0</td><td>6665.0</td><td>60.0</td><td>441.0</td><td>134.1</td><td>29.408135</td><td>134.1</td><td>0.000225</td><td>100.0</td><td>864.838384</td><td>null</td></tr><tr><td>&quot;max&quot;</td><td>60.0</td><td>47.0</td><td>255.0</td><td>1.572864e7</td><td>1.0</td><td>1.0</td><td>1.0</td><td>1.0</td><td>1.0</td><td>1.0</td><td>1.0</td><td>100.0</td><td>100.0</td><td>100.0</td><td>100.0</td><td>1.0</td><td>1.0</td><td>1.0</td><td>0.6</td><td>0.9</td><td>1.0</td><td>0.9</td><td>1.0</td><td>1.0</td><td>0.8</td><td>1.0</td><td>1.0</td><td>0.4</td><td>1.0</td><td>1.0</td><td>316492.0</td><td>7306.0</td><td>52194.0</td><td>9430.3</td><td>11655.404669</td><td>9430.3</td><td>78612.003899</td><td>100.0</td><td>1.35848458e8</td><td>&quot;XSS&quot;</td></tr></tbody></table></div>"
      ],
      "text/plain": [
       "shape: (9, 41)\n",
       "┌───────────┬───────────┬───────────┬───────────┬───┬───────────┬───────────┬───────────┬──────────┐\n",
       "│ statistic ┆ Header_Le ┆ Protocol  ┆ Time_To_L ┆ … ┆ IAT       ┆ Number    ┆ Variance  ┆ Label    │\n",
       "│ ---       ┆ ngth      ┆ Type      ┆ ive       ┆   ┆ ---       ┆ ---       ┆ ---       ┆ ---      │\n",
       "│ str       ┆ ---       ┆ ---       ┆ ---       ┆   ┆ f64       ┆ f64       ┆ f64       ┆ str      │\n",
       "│           ┆ f64       ┆ f64       ┆ f64       ┆   ┆           ┆           ┆           ┆          │\n",
       "╞═══════════╪═══════════╪═══════════╪═══════════╪═══╪═══════════╪═══════════╪═══════════╪══════════╡\n",
       "│ count     ┆ 2.100524e ┆ 2.100524e ┆ 2.100524e ┆ … ┆ 2.100524e ┆ 2.100524e ┆ 2.100524e ┆ 21005240 │\n",
       "│           ┆ 7         ┆ 7         ┆ 7         ┆   ┆ 7         ┆ 7         ┆ 7         ┆          │\n",
       "│ null_coun ┆ 0.0       ┆ 0.0       ┆ 0.0       ┆ … ┆ 0.0       ┆ 0.0       ┆ 0.0       ┆ 0        │\n",
       "│ t         ┆           ┆           ┆           ┆   ┆           ┆           ┆           ┆          │\n",
       "│ mean      ┆ 14.022944 ┆ 11.235932 ┆ 69.413359 ┆ … ┆ 0.022037  ┆ 90.555317 ┆ 73295.144 ┆ null     │\n",
       "│           ┆           ┆           ┆           ┆   ┆           ┆           ┆ 494       ┆          │\n",
       "│ std       ┆ 9.085971  ┆ 11.468747 ┆ 20.664064 ┆ … ┆ 31.001877 ┆ 27.526711 ┆ 565975.36 ┆ null     │\n",
       "│           ┆           ┆           ┆           ┆   ┆           ┆           ┆ 5401      ┆          │\n",
       "│ min       ┆ 0.0       ┆ 0.0       ┆ 0.0       ┆ … ┆ -0.017818 ┆ 2.0       ┆ 0.0       ┆ BACKDOOR │\n",
       "│           ┆           ┆           ┆           ┆   ┆           ┆           ┆           ┆ _MALWARE │\n",
       "│ 25%       ┆ 7.92      ┆ 6.0       ┆ 64.0      ┆ … ┆ 0.000038  ┆ 100.0     ┆ 0.0       ┆ null     │\n",
       "│ 50%       ┆ 19.8      ┆ 6.0       ┆ 64.0      ┆ … ┆ 0.00008   ┆ 100.0     ┆ 1.96      ┆ null     │\n",
       "│ 75%       ┆ 20.0      ┆ 17.0      ┆ 65.73     ┆ … ┆ 0.000225  ┆ 100.0     ┆ 864.83838 ┆ null     │\n",
       "│           ┆           ┆           ┆           ┆   ┆           ┆           ┆ 4         ┆          │\n",
       "│ max       ┆ 60.0      ┆ 47.0      ┆ 255.0     ┆ … ┆ 78612.003 ┆ 100.0     ┆ 1.3584845 ┆ XSS      │\n",
       "│           ┆           ┆           ┆           ┆   ┆ 899       ┆           ┆ 8e8       ┆          │\n",
       "└───────────┴───────────┴───────────┴───────────┴───┴───────────┴───────────┴───────────┴──────────┘"
      ]
     },
     "execution_count": 8,
     "metadata": {},
     "output_type": "execute_result"
    }
   ],
   "source": [
    "raw_df.describe()"
   ]
  },
  {
   "cell_type": "markdown",
   "id": "360b1e06",
   "metadata": {},
   "source": [
    "Now the dataset contains around **21 million rows and 40 columns**. Also, there are no missing values either duplicates."
   ]
  },
  {
   "cell_type": "markdown",
   "id": "c19963d0",
   "metadata": {},
   "source": [
    "## 4. Feature Selection"
   ]
  },
  {
   "cell_type": "markdown",
   "id": "61c63fa3",
   "metadata": {},
   "source": [
    "Checking highly correlated feature pairs"
   ]
  },
  {
   "cell_type": "code",
   "execution_count": 9,
   "id": "e2770030",
   "metadata": {},
   "outputs": [
    {
     "data": {
      "text/plain": [
       "[('fin_flag_number', 'fin_count'),\n",
       " ('syn_flag_number', 'syn_count'),\n",
       " ('rst_flag_number', 'rst_count'),\n",
       " ('syn_count', 'syn_flag_number'),\n",
       " ('fin_count', 'fin_flag_number'),\n",
       " ('fin_count', 'rst_count'),\n",
       " ('rst_count', 'rst_flag_number'),\n",
       " ('rst_count', 'fin_count'),\n",
       " ('ARP', 'IPv'),\n",
       " ('ARP', 'LLC'),\n",
       " ('IPv', 'ARP'),\n",
       " ('IPv', 'LLC'),\n",
       " ('LLC', 'ARP'),\n",
       " ('LLC', 'IPv'),\n",
       " ('AVG', 'Tot size'),\n",
       " ('Tot size', 'AVG')]"
      ]
     },
     "execution_count": 9,
     "metadata": {},
     "output_type": "execute_result"
    }
   ],
   "source": [
    "sample_df = raw_df.sample(n=500_000, shuffle=True).to_pandas()\n",
    "corr = sample_df.corr(numeric_only=True).abs()\n",
    "\n",
    "# Columns with strong correlations (|r| > 0.95)\n",
    "high_corr = [(i, j) for i in corr.columns for j in corr.columns\n",
    "              if i != j and corr.loc[i, j] > 0.95]\n",
    "high_corr"
   ]
  },
  {
   "cell_type": "markdown",
   "id": "043255f1",
   "metadata": {},
   "source": [
    "Feature-importance ranking"
   ]
  },
  {
   "cell_type": "code",
   "execution_count": 10,
   "id": "efc53ec3",
   "metadata": {},
   "outputs": [
    {
     "data": {
      "text/plain": [
       "Time_To_Live       6317\n",
       "Header_Length      5847\n",
       "Rate               5677\n",
       "IAT                5473\n",
       "Tot sum            4648\n",
       "Max                3950\n",
       "AVG                3188\n",
       "Std                3065\n",
       "HTTPS              2337\n",
       "HTTP               2317\n",
       "ack_flag_number    2140\n",
       "syn_flag_number    2013\n",
       "psh_flag_number    1967\n",
       "Min                1912\n",
       "UDP                1898\n",
       "Variance           1550\n",
       "ICMP               1436\n",
       "rst_flag_number    1392\n",
       "ack_count          1325\n",
       "TCP                1161\n",
       "dtype: int32"
      ]
     },
     "execution_count": 10,
     "metadata": {},
     "output_type": "execute_result"
    }
   ],
   "source": [
    "# Convert to pandas for modeling\n",
    "df = raw_df.sample(n=1_000_000, shuffle=True).to_pandas()\n",
    "\n",
    "X = df.drop(\"Label\", axis=1)\n",
    "y = LabelEncoder().fit_transform(df[\"Label\"])\n",
    "\n",
    "# Train-test split\n",
    "X_train, X_valid, y_train, y_valid = train_test_split(X, y, test_size=0.2, random_state=42)\n",
    "\n",
    "# Train a LightGBM model\n",
    "model = lgb.LGBMClassifier(n_estimators=100, random_state=42,verbose=-1)\n",
    "model.fit(X_train, y_train)\n",
    "\n",
    "# Get feature importances\n",
    "importances = pd.Series(model.feature_importances_, index=X.columns).sort_values(ascending=False)\n",
    "importances.head(20)"
   ]
  },
  {
   "cell_type": "code",
   "execution_count": 11,
   "id": "68312f03",
   "metadata": {},
   "outputs": [
    {
     "name": "stdout",
     "output_type": "stream",
     "text": [
      "Dropped: ['fin_count', 'syn_count', 'rst_count', 'IPv', 'LLC', 'LLC', 'Tot size']\n",
      "Final features: ['Header_Length', 'Protocol Type', 'Time_To_Live', 'Rate', 'fin_flag_number', 'syn_flag_number', 'rst_flag_number', 'psh_flag_number', 'ack_flag_number', 'ece_flag_number', 'cwr_flag_number', 'ack_count', 'HTTP', 'HTTPS', 'DNS', 'Telnet', 'SMTP', 'SSH', 'IRC', 'TCP', 'UDP', 'DHCP', 'ARP', 'ICMP', 'IGMP', 'Tot sum', 'Min', 'Max', 'AVG', 'Std', 'IAT', 'Number', 'Variance']\n"
     ]
    }
   ],
   "source": [
    "# Defining redundant pairs\n",
    "redundant_pairs = [\n",
    "    (\"fin_flag_number\", \"fin_count\"),\n",
    "    (\"syn_flag_number\", \"syn_count\"),\n",
    "    (\"rst_flag_number\", \"rst_count\"),\n",
    "    (\"ARP\", \"IPv\"),\n",
    "    (\"ARP\", \"LLC\"),\n",
    "    (\"IPv\", \"LLC\"),\n",
    "    (\"AVG\", \"Tot size\")\n",
    "]\n",
    "\n",
    "# Getting model importance ranking as a pandas Series\n",
    "importances = model.feature_importances_\n",
    "features = X.columns\n",
    "importance_df = pd.DataFrame({\"feature\": features, \"importance\": importances})\n",
    "\n",
    "# Dropping redundant features\n",
    "to_drop = []\n",
    "for a, b in redundant_pairs:\n",
    "    if a in features and b in features:\n",
    "        # dropping the one with lower importance\n",
    "        drop_col = a if importance_df.loc[importance_df.feature == a, \"importance\"].item() < \\\n",
    "                         importance_df.loc[importance_df.feature == b, \"importance\"].item() else b\n",
    "        to_drop.append(drop_col)\n",
    "\n",
    "clean_features = [f for f in features if f not in to_drop]\n",
    "print(\"Dropped:\", to_drop)\n",
    "print(\"Final features:\", clean_features)"
   ]
  },
  {
   "cell_type": "code",
   "execution_count": 12,
   "id": "34434263",
   "metadata": {},
   "outputs": [],
   "source": [
    "cols_to_drop = ['fin_count', 'syn_count', 'rst_count', 'IPv', 'LLC', 'Tot size']\n",
    "\n",
    "raw_df = raw_df.drop(cols_to_drop)"
   ]
  },
  {
   "cell_type": "markdown",
   "id": "abd16ba5",
   "metadata": {},
   "source": [
    "### Saving Cleaned Dataset"
   ]
  },
  {
   "cell_type": "code",
   "execution_count": 13,
   "id": "dac611c7",
   "metadata": {},
   "outputs": [],
   "source": [
    "raw_df.write_parquet(\"../Data/Cleaned/Cleaned_Dataset\")"
   ]
  }
 ],
 "metadata": {
  "kernelspec": {
   "display_name": "Python 3",
   "language": "python",
   "name": "python3"
  },
  "language_info": {
   "codemirror_mode": {
    "name": "ipython",
    "version": 3
   },
   "file_extension": ".py",
   "mimetype": "text/x-python",
   "name": "python",
   "nbconvert_exporter": "python",
   "pygments_lexer": "ipython3",
   "version": "3.10.11"
  }
 },
 "nbformat": 4,
 "nbformat_minor": 5
}
