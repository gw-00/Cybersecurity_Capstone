{
 "cells": [
  {
   "cell_type": "markdown",
   "id": "25ebcc01",
   "metadata": {},
   "source": [
    "## Modeling Notebook"
   ]
  },
  {
   "cell_type": "markdown",
   "id": "1c0dc956",
   "metadata": {},
   "source": [
    "## Library Imports"
   ]
  },
  {
   "cell_type": "code",
   "execution_count": null,
   "id": "56b0ec6f",
   "metadata": {},
   "outputs": [],
   "source": [
    "## Import necessary libraries here"
   ]
  }
 ],
 "metadata": {
  "kernelspec": {
   "display_name": "capstone",
   "language": "python",
   "name": "python3"
  },
  "language_info": {
   "name": "python",
   "version": "3.12.12"
  }
 },
 "nbformat": 4,
 "nbformat_minor": 5
}
