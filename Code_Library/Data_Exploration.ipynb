{
 "cells": [
  {
   "cell_type": "markdown",
   "id": "664c7caf",
   "metadata": {},
   "source": [
    "## Data Exploration Notebook"
   ]
  },
  {
   "cell_type": "markdown",
   "id": "d652ae17",
   "metadata": {},
   "source": [
    "## Libary Imports"
   ]
  },
  {
   "cell_type": "code",
   "execution_count": null,
   "id": "7e621332",
   "metadata": {},
   "outputs": [],
   "source": [
    "## Import necessary libraries here"
   ]
  }
 ],
 "metadata": {
  "kernelspec": {
   "display_name": "capstone",
   "language": "python",
   "name": "python3"
  },
  "language_info": {
   "name": "python",
   "version": "3.12.12"
  }
 },
 "nbformat": 4,
 "nbformat_minor": 5
}
